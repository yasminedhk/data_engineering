{
 "cells": [
  {
   "cell_type": "code",
   "execution_count": 4,
   "metadata": {},
   "outputs": [],
   "source": [
    "import numpy as np\n",
    "import pandas as pd\n",
    "\n",
    "from sklearn.feature_extraction.text import TfidfVectorizer\n",
    "from sklearn.feature_extraction.text import CountVectorizer\n",
    "from sklearn.metrics.pairwise import cosine_similarity"
   ]
  },
  {
   "cell_type": "code",
   "execution_count": 61,
   "metadata": {},
   "outputs": [
    {
     "data": {
      "text/html": [
       "<div>\n",
       "<style scoped>\n",
       "    .dataframe tbody tr th:only-of-type {\n",
       "        vertical-align: middle;\n",
       "    }\n",
       "\n",
       "    .dataframe tbody tr th {\n",
       "        vertical-align: top;\n",
       "    }\n",
       "\n",
       "    .dataframe thead th {\n",
       "        text-align: right;\n",
       "    }\n",
       "</style>\n",
       "<table border=\"1\" class=\"dataframe\">\n",
       "  <thead>\n",
       "    <tr style=\"text-align: right;\">\n",
       "      <th></th>\n",
       "      <th>Unnamed: 0</th>\n",
       "      <th>date</th>\n",
       "      <th>id</th>\n",
       "      <th>link</th>\n",
       "      <th>retweet</th>\n",
       "      <th>text</th>\n",
       "      <th>author</th>\n",
       "    </tr>\n",
       "  </thead>\n",
       "  <tbody>\n",
       "    <tr>\n",
       "      <th>0</th>\n",
       "      <td>0</td>\n",
       "      <td>Oct 7</td>\n",
       "      <td>784609194234306560</td>\n",
       "      <td>/realDonaldTrump/status/784609194234306560</td>\n",
       "      <td>False</td>\n",
       "      <td>Here is my statement.pic.twitter.com/WAZiGoQqMQ</td>\n",
       "      <td>DonaldTrump</td>\n",
       "    </tr>\n",
       "    <tr>\n",
       "      <th>1</th>\n",
       "      <td>1</td>\n",
       "      <td>Oct 10</td>\n",
       "      <td>785608815962099712</td>\n",
       "      <td>/realDonaldTrump/status/785608815962099712</td>\n",
       "      <td>False</td>\n",
       "      <td>Is this really America? Terrible!pic.twitter.c...</td>\n",
       "      <td>DonaldTrump</td>\n",
       "    </tr>\n",
       "    <tr>\n",
       "      <th>2</th>\n",
       "      <td>2</td>\n",
       "      <td>Oct 8</td>\n",
       "      <td>784840992734064640</td>\n",
       "      <td>/realDonaldTrump/status/784840992734064641</td>\n",
       "      <td>False</td>\n",
       "      <td>The media and establishment want me out of the...</td>\n",
       "      <td>DonaldTrump</td>\n",
       "    </tr>\n",
       "    <tr>\n",
       "      <th>3</th>\n",
       "      <td>3</td>\n",
       "      <td>Oct 8</td>\n",
       "      <td>784767399442653184</td>\n",
       "      <td>/realDonaldTrump/status/784767399442653184</td>\n",
       "      <td>False</td>\n",
       "      <td>Certainly has been an interesting 24 hours!</td>\n",
       "      <td>DonaldTrump</td>\n",
       "    </tr>\n",
       "    <tr>\n",
       "      <th>4</th>\n",
       "      <td>4</td>\n",
       "      <td>Oct 10</td>\n",
       "      <td>785561269571026944</td>\n",
       "      <td>/realDonaldTrump/status/785561269571026946</td>\n",
       "      <td>False</td>\n",
       "      <td>Debate polls look great - thank you!\\n#MAGA #A...</td>\n",
       "      <td>DonaldTrump</td>\n",
       "    </tr>\n",
       "  </tbody>\n",
       "</table>\n",
       "</div>"
      ],
      "text/plain": [
       "   Unnamed: 0    date                  id  \\\n",
       "0           0   Oct 7  784609194234306560   \n",
       "1           1  Oct 10  785608815962099712   \n",
       "2           2   Oct 8  784840992734064640   \n",
       "3           3   Oct 8  784767399442653184   \n",
       "4           4  Oct 10  785561269571026944   \n",
       "\n",
       "                                         link  retweet  \\\n",
       "0  /realDonaldTrump/status/784609194234306560    False   \n",
       "1  /realDonaldTrump/status/785608815962099712    False   \n",
       "2  /realDonaldTrump/status/784840992734064641    False   \n",
       "3  /realDonaldTrump/status/784767399442653184    False   \n",
       "4  /realDonaldTrump/status/785561269571026946    False   \n",
       "\n",
       "                                                text       author  \n",
       "0    Here is my statement.pic.twitter.com/WAZiGoQqMQ  DonaldTrump  \n",
       "1  Is this really America? Terrible!pic.twitter.c...  DonaldTrump  \n",
       "2  The media and establishment want me out of the...  DonaldTrump  \n",
       "3        Certainly has been an interesting 24 hours!  DonaldTrump  \n",
       "4  Debate polls look great - thank you!\\n#MAGA #A...  DonaldTrump  "
      ]
     },
     "execution_count": 61,
     "metadata": {},
     "output_type": "execute_result"
    }
   ],
   "source": [
    "df = pd.read_csv('tweets.csv')\n",
    "df.head()"
   ]
  },
  {
   "cell_type": "code",
   "execution_count": 8,
   "metadata": {},
   "outputs": [],
   "source": [
    "# Get tf-idf matrix using fit_transform function\n",
    "vectorizer = TfidfVectorizer()"
   ]
  },
  {
   "cell_type": "code",
   "execution_count": 9,
   "metadata": {},
   "outputs": [
    {
     "name": "stdout",
     "output_type": "stream",
     "text": [
      "Wall time: 391 ms\n"
     ]
    }
   ],
   "source": [
    "%%time\n",
    "X = vectorizer.fit_transform(df['text']) # Store tf-idf representations of all docs"
   ]
  },
  {
   "cell_type": "code",
   "execution_count": 10,
   "metadata": {},
   "outputs": [
    {
     "name": "stdout",
     "output_type": "stream",
     "text": [
      "(17216, 21573)\n"
     ]
    }
   ],
   "source": [
    "\n",
    "print(X.shape)"
   ]
  },
  {
   "cell_type": "code",
   "execution_count": 58,
   "metadata": {},
   "outputs": [],
   "source": [
    "query = \"France\""
   ]
  },
  {
   "cell_type": "code",
   "execution_count": 59,
   "metadata": {},
   "outputs": [
    {
     "name": "stdout",
     "output_type": "stream",
     "text": [
      "Wall time: 13 ms\n"
     ]
    }
   ],
   "source": [
    "\n",
    "%%time\n",
    "query_vec = vectorizer.transform([query]) # Ip -- (n_docs,x), Op -- (n_docs,n_Feats)\n",
    "results = cosine_similarity(X,query_vec).reshape((-1,)) # Op -- (n_docs,1) -- Cosine Sim with each doc"
   ]
  },
  {
   "cell_type": "code",
   "execution_count": 60,
   "metadata": {},
   "outputs": [
    {
     "name": "stdout",
     "output_type": "stream",
     "text": [
      "/realDonaldTrump/status/274610404116807680 -- France is losing its businesses and wealth rapidly and day by day.\n",
      "/realDonaldTrump/status/274610404116807680 -- France is losing its businesses and wealth rapidly and day by day.\n",
      "/realDonaldTrump/status/553312128686637059 -- Via @Newsmax_Media by @melaniebatley: \"Donald Trump: France's Strict Gun Laws Enabled Attack\"\n",
      "http://www.Newsmax.com/Headline/Donald-Trump-France-gun-laws-Paris-attack/2015/01/08/id/617261/#ixzz3OGoWg0rh …\n",
      "/realDonaldTrump/status/753750790590828544 -- My prayers and condolences to the victims and families of the terrible tragedy in Nice, France. We are with you in every way!\n",
      "/realDonaldTrump/status/753720863606775809 -- Another horrific attack, this time in Nice, France. Many dead and injured. When will we learn? It is only getting worse.\n",
      "/realDonaldTrump/status/753728269019549696 -- In light of the horrible attack in Nice, France, I have postponed tomorrow's news conference concerning my Vice Presidential announcement.\n",
      "/realDonaldTrump/status/552983766986403840 -- \"@VinDaniels: @GlennNights @realDonaldTrump He is correct. France has harsh gun laws. Terrorists were carrying AK47.\"\n",
      "/realDonaldTrump/status/199573450485006336 -- The election result in France is very disappointing. The Europeans have to embrace austerity in order for their economy to fully recover.\n",
      "/realDonaldTrump/status/199573450485006336 -- The election result in France is very disappointing. The Europeans have to embrace austerity in order for their economy to fully recover.\n",
      "/realDonaldTrump/status/213333361794613249 -- Shocking--over 92% of France--who just elected a socialist for its new PM--want @BarackObama re-elected http://bit.ly/MPdoB8 \n",
      "/realDonaldTrump/status/213333361794613249 -- Shocking--over 92% of France--who just elected a socialist for its new PM--want @BarackObama re-elected http://bit.ly/MPdoB8 \n",
      "/realDonaldTrump/status/553851865105186816 -- The French police are afraid to go into many  communities. How did France let this all happen, and how did the female terrorist ever escape?\n",
      "/realDonaldTrump/status/636252027878789121 -- Great American heroes who averted an attack in France. THANK YOU! Spencer Stone, Anthony Sadler, & Alex Skarlatos.pic.twitter.com/5P0tX9Mq8u\n",
      "/realDonaldTrump/status/541793146427179008 -- \"@kyle_diehl34: The next celebrity apprentice cast is  @realDonaldTrump\" True!\n",
      "/realDonaldTrump/status/541098345746690048 -- \"@steff17brown: My biggest hero will forever be @realDonaldTrump #Trump2016\" Thank you.\n",
      "/realDonaldTrump/status/541708082192338944 -- \"@cfdmthompson: Great day at Trump National Charlotte. Loved the renovations. @realDonaldTrump http://twitter.com/cfdmthompson/status/541706087662362624/photo/1pic.twitter.com/dxoN6czeMF \"\n",
      "/realDonaldTrump/status/540986980717568000 -- \"@Mogainc @realDonaldTrump @CelebApprentice when is the new season starting? I can't wait any longer....#celebrityapprentice\" January 4th\n",
      "/realDonaldTrump/status/541715169005813760 -- \"@Li:Can't wait to meet! DonaldTrump will deliver keynote @ICSC NY National Deal Making Conference on Dec 8. http://ow.ly/E7K7J  #NYConf\"\n",
      "/realDonaldTrump/status/540894275501035520 -- Entrepreneurs: Believe in yourself! If you don't, no one else will either.\n",
      "/realDonaldTrump/status/541792879984001025 -- \"@Sundropaholic: FINALLY @ApprenticeNBC returns! @realDonaldTrump rescues the winter TV schedule. Our house never misses it.\" Great!\n"
     ]
    }
   ],
   "source": [
    "# Print Top 10 results\n",
    "for i in results.argsort()[-20:][::-1]:\n",
    "    print(df.iloc[i,3],\"--\",df.iloc[i,5])"
   ]
  }
 ],
 "metadata": {
  "kernelspec": {
   "display_name": "Python 3",
   "language": "python",
   "name": "python3"
  },
  "language_info": {
   "codemirror_mode": {
    "name": "ipython",
    "version": 3
   },
   "file_extension": ".py",
   "mimetype": "text/x-python",
   "name": "python",
   "nbconvert_exporter": "python",
   "pygments_lexer": "ipython3",
   "version": "3.9.0"
  }
 },
 "nbformat": 4,
 "nbformat_minor": 4
}
